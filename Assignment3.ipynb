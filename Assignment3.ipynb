{
 "cells": [
  {
   "cell_type": "markdown",
   "metadata": {},
   "source": [
    "1.1 Write a Python Program to implement your own myreduce() function which works exactly\n",
    "like Python's built-in function reduce()"
   ]
  },
  {
   "cell_type": "code",
   "execution_count": 27,
   "metadata": {},
   "outputs": [
    {
     "name": "stdout",
     "output_type": "stream",
     "text": [
      "120\n",
      "15\n",
      "prince\n"
     ]
    }
   ],
   "source": [
    "def myreduce(func,collection):\n",
    "    \"\"\"\n",
    "    func- its the custom function on which will be applied to elements\n",
    "    iterable- ex-list etc\n",
    "    return the aggregate like sum, product\n",
    "    \"\"\"\n",
    "    num= collection[0]\n",
    "    for i in collection[1:]:\n",
    "        num=func(num,i)\n",
    "    return num\n",
    "my_list=[1,2,3,4,5]\n",
    "\n",
    "result_product=myreduce(lambda x,y:x*y,my_list)\n",
    "print(result_product)\n",
    "\n",
    "result_sum=myreduce(lambda x,y:x+y,my_list)\n",
    "print(result_sum)\n",
    "\n",
    "my_list_char=['p','r','i','n','c','e']\n",
    "concat_char=myreduce(lambda x,y:x+y,my_list_char)\n",
    "print(concat_char)\n",
    "\n",
    "        \n",
    "    \n"
   ]
  },
  {
   "cell_type": "markdown",
   "metadata": {},
   "source": [
    "1.2 Write a Python program to implement your own myfilter() function which works exactly\n",
    "like Python's built-in function filter()"
   ]
  },
  {
   "cell_type": "code",
   "execution_count": 28,
   "metadata": {},
   "outputs": [
    {
     "name": "stdout",
     "output_type": "stream",
     "text": [
      "[1, 3, 5, 7, 9]\n",
      "[2, 4, 6, 8, 10]\n"
     ]
    }
   ],
   "source": [
    "def myfilter(func,collection):\n",
    "    \"\"\"\n",
    "    func- its the custom function on which will be applied to elements\n",
    "    iterable- ex-list etc\n",
    "    return the element if filter function is true\n",
    "    \"\"\"\n",
    "    for item in collection:\n",
    "        if func(item):\n",
    "            yield item\n",
    "\n",
    "res_filter_odd= list(myfilter(lambda x:x%2,[1,2,3,4,5,6,7,8,9,10]))\n",
    "print(res_filter)\n",
    "res_filter_even= list(myfilter(lambda x:x%2==0,[1,2,3,4,5,6,7,8,9,10]))\n",
    "print(res_filter_even)\n"
   ]
  },
  {
   "cell_type": "markdown",
   "metadata": {},
   "source": [
    "2 Implement List comprehensions to produce the following lists.\n",
    "Write List comprehensions to produce the following Lists\n",
    "['x', 'xx', 'xxx', 'xxxx', 'y', 'yy', 'yyy', 'yyyy', 'z', 'zz', 'zzz', 'zzzz']\n",
    "['x', 'y', 'z', 'xx', 'yy', 'zz', 'xxx', 'yyy', 'zzz', 'xxxx', 'yyyy', 'zzzz']\n",
    "[[2], [3], [4], [3], [4], [5], [4], [5], [6]] \n",
    "[[2, 3, 4, 5], [3, 4, 5, 6],[4, 5, 6, 7], [5, 6, 7, 8]]\n",
    "[(1, 1), (2, 1), (3, 1), (1, 2), (2, 2), (3, 2), (1, 3), (2, 3), (3, 3)]"
   ]
  },
  {
   "cell_type": "code",
   "execution_count": 29,
   "metadata": {},
   "outputs": [
    {
     "name": "stdout",
     "output_type": "stream",
     "text": [
      "['x', 'xx', 'xxx', 'y', 'yy', 'yyy', 'z', 'zz', 'zzz']\n"
     ]
    }
   ],
   "source": [
    "#['x', 'xx', 'xxx', 'xxxx', 'y', 'yy', 'yyy', 'yyyy', 'z', 'zz', 'zzz', 'zzzz']\n",
    "list_alpha=['x','y','z']\n",
    "res=[item*num for item in list_alpha for num in range(1,4)]\n",
    "print(res)"
   ]
  },
  {
   "cell_type": "code",
   "execution_count": 30,
   "metadata": {},
   "outputs": [
    {
     "name": "stdout",
     "output_type": "stream",
     "text": [
      "['x', 'y', 'z', 'xx', 'yy', 'zz', 'xxx', 'yyy', 'zzz']\n"
     ]
    }
   ],
   "source": [
    "#['x', 'y', 'z', 'xx', 'yy', 'zz', 'xxx', 'yyy', 'zzz', 'xxxx', 'yyyy', 'zzzz'] \n",
    "list_alpha=['x','y','z']\n",
    "res=[item*num for num in range(1,4) for item in list_alpha ]\n",
    "print(res)"
   ]
  },
  {
   "cell_type": "code",
   "execution_count": 31,
   "metadata": {},
   "outputs": [
    {
     "name": "stdout",
     "output_type": "stream",
     "text": [
      "[[2], [3], [4], [3], [4], [5], [4], [5], [6]]\n"
     ]
    }
   ],
   "source": [
    "#[[2], [3], [4], [3], [4], [5], [4], [5], [6]]\n",
    "list_input=[2,3,4]\n",
    "res_1=[[item+num] for item in list_input for num in range(0,3)]\n",
    "print(res_1)\n"
   ]
  },
  {
   "cell_type": "code",
   "execution_count": 32,
   "metadata": {},
   "outputs": [
    {
     "name": "stdout",
     "output_type": "stream",
     "text": [
      "[[2, 3, 4, 5], [3, 4, 5, 6], [4, 5, 6, 7], [5, 6, 7, 8]]\n",
      "[[3, 4, 5, 6], [3, 4, 5, 6], [3, 4, 5, 6], [3, 4, 5, 6]]\n"
     ]
    }
   ],
   "source": [
    "#[[2, 3, 4, 5], [3, 4, 5, 6],[4, 5, 6, 7], [5, 6, 7, 8]]\n",
    "list_input_1=[2,3,4,5]\n",
    "#using normal iteration\n",
    "res_2=[ [item+num for item in list_input_1] for num in range(0,4)]\n",
    "#using lambda\n",
    "res_3=[ list(map(lambda x:x+1,list_input_1)) for num in range(0,4)]\n",
    "print(res_2)\n",
    "print(res_3)"
   ]
  },
  {
   "cell_type": "code",
   "execution_count": 33,
   "metadata": {},
   "outputs": [
    {
     "name": "stdout",
     "output_type": "stream",
     "text": [
      "[(1, 1), (2, 1), (3, 1), (2, 1), (2, 2), (3, 2), (3, 1), (3, 2), (3, 3)]\n"
     ]
    }
   ],
   "source": [
    "# [(1, 1), (2, 1), (3, 1), (1, 2), (2, 2), (3, 2), (1, 3), (2, 3), (3, 3)]\n",
    "res_4=[(i,j) if i>j else (j,i)for i in range(1,4) for j in range(1,4)]\n",
    "print(res_4)"
   ]
  },
  {
   "cell_type": "code",
   "execution_count": null,
   "metadata": {},
   "outputs": [],
   "source": []
  }
 ],
 "metadata": {
  "kernelspec": {
   "display_name": "Python 3",
   "language": "python",
   "name": "python3"
  },
  "language_info": {
   "codemirror_mode": {
    "name": "ipython",
    "version": 3
   },
   "file_extension": ".py",
   "mimetype": "text/x-python",
   "name": "python",
   "nbconvert_exporter": "python",
   "pygments_lexer": "ipython3",
   "version": "3.7.3"
  }
 },
 "nbformat": 4,
 "nbformat_minor": 2
}
